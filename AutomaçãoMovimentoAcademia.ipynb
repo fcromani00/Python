{
 "cells": [
  {
   "cell_type": "code",
   "execution_count": null,
   "id": "21606ab5",
   "metadata": {},
   "outputs": [],
   "source": [
    "import pyautogui\n",
    "import pyperclip\n",
    "import time"
   ]
  },
  {
   "cell_type": "code",
   "execution_count": null,
   "id": "ed38b6a8",
   "metadata": {},
   "outputs": [],
   "source": [
    "#saber qual academia o usuário quer consultar\n",
    "academia = input(\"Qual academia você quer verificar o movimento?\\n-Pedroso\\n-Liberdade\\n-Satélite\\n-Aquarius\\n-Center Vale\\n\\nInsira exatamente como uma das opções acima\\n\")\n",
    "if academia == \"Satélite\":\n",
    "    academia = \"Academia Smart Fit - Satélite - Rua Pedro Tursi - Jardim Satélite, São José dos Campos - SP\"\n",
    "elif academia == \"Pedroso\":\n",
    "    academia = \"Academia Smart Fit - Bela Vista - Rua Pedroso - Bela Vista, São Paulo - SP\"\n",
    "elif academia == \"Liberdade\":\n",
    "    academia = \"Academia Smart Fit - Liberdade - Avenida da Liberdade - Liberdade, São Paulo - SP\"\n",
    "elif academia == \"Aquarius\":\n",
    "    academia = \"Academia Smart Fit - Aquarius - Avenida Comendador Vicente de Paulo Penido - Parque Residencial Aquarius, São José dos Campos - SP\"\n",
    "elif academia == \"Center Vale\":\n",
    "    academia = \"Academia Smart Fit - Center Vale - Avenida Deputado Benedito Matarazzo - Jardim Oswaldo Cruz, São José dos Campos - SP\""
   ]
  },
  {
   "cell_type": "code",
   "execution_count": null,
   "id": "07416c3b",
   "metadata": {},
   "outputs": [],
   "source": [
    "#aviso de inicio do codigo\n",
    "pyautogui.alert(\"O código de automação irá iniciar\\n O teclado, mouse e tela serão automatizados\\n Por favor não use-os por um minuto\")"
   ]
  },
  {
   "cell_type": "code",
   "execution_count": null,
   "id": "9d68321b",
   "metadata": {},
   "outputs": [],
   "source": [
    "\n",
    "#Abrir O Chrome\n",
    "pyautogui.PAUSE = 1\n",
    "pyautogui.press(\"win\")\n",
    "pyautogui.write(\"chrome\")\n",
    "pyautogui.press(\"enter\")\n",
    "pyautogui.hotkey(\"ctrl\", \"t\")\n",
    "time.sleep(1)\n"
   ]
  },
  {
   "cell_type": "code",
   "execution_count": null,
   "id": "68d52a17",
   "metadata": {},
   "outputs": [],
   "source": [
    "#Ir no Google Maps\n",
    "pyperclip.copy(\"https://www.google.com/maps\")\n",
    "pyautogui.hotkey(\"ctrl\", \"v\")\n",
    "pyautogui.press(\"enter\")\n",
    "time.sleep(3)"
   ]
  },
  {
   "cell_type": "code",
   "execution_count": null,
   "id": "dcb4abae",
   "metadata": {},
   "outputs": [],
   "source": [
    "#Pesquisar a Smart Fit desejada\n",
    "pyperclip.copy(academia)\n",
    "pyautogui.hotkey(\"ctrl\",\"v\")\n",
    "pyautogui.press(\"enter\")\n",
    "time.sleep(5)"
   ]
  },
  {
   "cell_type": "code",
   "execution_count": null,
   "id": "af01b3a5",
   "metadata": {},
   "outputs": [],
   "source": [
    "#Mostrar o movimento da Academia no momento\n",
    "pyautogui.click(x=336, y=391)\n",
    "pyautogui.scroll(-700)\n",
    "pyautogui.moveTo(351, 644)"
   ]
  },
  {
   "cell_type": "code",
   "execution_count": null,
   "id": "4f2ea0ac",
   "metadata": {},
   "outputs": [],
   "source": []
  }
 ],
 "metadata": {
  "kernelspec": {
   "display_name": "Python 3 (ipykernel)",
   "language": "python",
   "name": "python3"
  },
  "language_info": {
   "codemirror_mode": {
    "name": "ipython",
    "version": 3
   },
   "file_extension": ".py",
   "mimetype": "text/x-python",
   "name": "python",
   "nbconvert_exporter": "python",
   "pygments_lexer": "ipython3",
   "version": "3.9.12"
  }
 },
 "nbformat": 4,
 "nbformat_minor": 5
}
